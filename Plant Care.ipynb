{
 "cells": [
  {
   "cell_type": "code",
   "execution_count": 22,
   "metadata": {},
   "outputs": [],
   "source": [
    "# Import required libraries\n",
    "import os\n",
    "import shutil\n",
    "import numpy as np\n",
    "import tensorflow as tf\n",
    "from tensorflow.keras.preprocessing.image import ImageDataGenerator\n",
    "from tensorflow.keras.applications import VGG19, ResNet50\n",
    "from tensorflow.keras.layers import Dense, GlobalAveragePooling2D, BatchNormalization, Dropout\n",
    "from tensorflow.keras.models import Model\n",
    "from tensorflow.keras.optimizers import Adam\n",
    "from sklearn.model_selection import train_test_split"
   ]
  },
  {
   "cell_type": "code",
   "execution_count": 4,
   "metadata": {},
   "outputs": [],
   "source": [
    "image_size = (128, 128)\n",
    "batch_size = 32\n",
    "validation_split = 0.2\n",
    "num_classes = 15\n",
    "\n",
    "dataset_dir = r\"D:\\Ashraf\\NCI\\Semester 2\\DMML2\\CA2\\Dataset\\PlantVillage\"\n",
    "base_dir = r\"D:\\Ashraf\\NCI\\Semester 2\\DMML2\\CA2\\Dataset\\New\"\n",
    "\n",
    "# Function to create directories\n",
    "def create_dir(path):\n",
    "    if not os.path.exists(path):\n",
    "        os.makedirs(path)\n",
    "\n",
    "# Split dataset into training and validation sets\n",
    "def split_dataset(dataset_dir, base_dir, validation_split):\n",
    "    create_dir(base_dir)\n",
    "    train_dir = os.path.join(base_dir, 'train')\n",
    "    validation_dir = os.path.join(base_dir, 'validation')\n",
    "    create_dir(train_dir)\n",
    "    create_dir(validation_dir)\n",
    "\n",
    "    for category in os.listdir(dataset_dir):\n",
    "        category_path = os.path.join(dataset_dir, category)\n",
    "        if os.path.isdir(category_path):\n",
    "            images = os.listdir(category_path)\n",
    "            train_images, val_images = train_test_split(images, test_size=validation_split, random_state=42)\n",
    "\n",
    "            train_category_dir = os.path.join(train_dir, category)\n",
    "            val_category_dir = os.path.join(validation_dir, category)\n",
    "            create_dir(train_category_dir)\n",
    "            create_dir(val_category_dir)\n",
    "\n",
    "            for image in train_images:\n",
    "                shutil.copy(os.path.join(category_path, image), os.path.join(train_category_dir, image))\n",
    "\n",
    "            for image in val_images:\n",
    "                shutil.copy(os.path.join(category_path, image), os.path.join(val_category_dir, image))\n",
    "\n",
    "split_dataset(dataset_dir, base_dir, validation_split)"
   ]
  },
  {
   "cell_type": "code",
   "execution_count": 27,
   "metadata": {},
   "outputs": [
    {
     "name": "stdout",
     "output_type": "stream",
     "text": [
      "Found 16504 images belonging to 15 classes.\n",
      "Found 4134 images belonging to 15 classes.\n"
     ]
    }
   ],
   "source": [
    "# Data Preparation\n",
    "train_dir = os.path.join(base_dir, 'train')\n",
    "validation_dir = os.path.join(base_dir, 'validation')\n",
    "\n",
    "train_datagen = ImageDataGenerator(\n",
    "    rescale=1./255,\n",
    "    rotation_range=20,\n",
    "    width_shift_range=0.2,\n",
    "    height_shift_range=0.2,\n",
    "    shear_range=0.2,\n",
    "    zoom_range=0.2,\n",
    "    horizontal_flip=True,\n",
    "    fill_mode='nearest')\n",
    "\n",
    "validation_datagen = ImageDataGenerator(rescale=1./255)\n",
    "\n",
    "train_dataset = train_datagen.flow_from_directory(\n",
    "    train_dir,\n",
    "    target_size=image_size,\n",
    "    batch_size=batch_size,\n",
    "    class_mode='categorical')\n",
    "\n",
    "validation_dataset = validation_datagen.flow_from_directory(\n",
    "    validation_dir,\n",
    "    target_size=image_size,\n",
    "    batch_size=batch_size,\n",
    "    class_mode='categorical')"
   ]
  },
  {
   "cell_type": "markdown",
   "metadata": {},
   "source": [
    "# VGG19"
   ]
  },
  {
   "cell_type": "code",
   "execution_count": 28,
   "metadata": {},
   "outputs": [],
   "source": [
    "# Build VGG19 Model\n",
    "vgg_base = VGG19(weights='imagenet', include_top=False, input_shape=(128, 128, 3))\n",
    "for layer in vgg_base.layers:\n",
    "    layer.trainable = False\n",
    "x_vgg = GlobalAveragePooling2D()(vgg_base.output)\n",
    "x_vgg = Dense(1024, activation='relu')(x_vgg)\n",
    "predictions_vgg = Dense(num_classes, activation='softmax')(x_vgg)\n",
    "vgg_model = Model(inputs=vgg_base.input, outputs=predictions_vgg)"
   ]
  },
  {
   "cell_type": "code",
   "execution_count": 29,
   "metadata": {},
   "outputs": [],
   "source": [
    "# Compile the Model\n",
    "vgg_model.compile(optimizer=Adam(), loss='categorical_crossentropy', metrics=['accuracy'])"
   ]
  },
  {
   "cell_type": "code",
   "execution_count": 30,
   "metadata": {},
   "outputs": [
    {
     "name": "stdout",
     "output_type": "stream",
     "text": [
      "Epoch 1/5\n"
     ]
    },
    {
     "name": "stderr",
     "output_type": "stream",
     "text": [
      "c:\\Users\\Lenovo\\AppData\\Local\\Programs\\Python\\Python312\\Lib\\site-packages\\keras\\src\\trainers\\data_adapters\\py_dataset_adapter.py:121: UserWarning: Your `PyDataset` class should call `super().__init__(**kwargs)` in its constructor. `**kwargs` can include `workers`, `use_multiprocessing`, `max_queue_size`. Do not pass these arguments to `fit()`, as they will be ignored.\n",
      "  self._warn_if_super_not_called()\n"
     ]
    },
    {
     "name": "stdout",
     "output_type": "stream",
     "text": [
      "\u001b[1m515/515\u001b[0m \u001b[32m━━━━━━━━━━━━━━━━━━━━\u001b[0m\u001b[37m\u001b[0m \u001b[1m1617s\u001b[0m 3s/step - accuracy: 0.4871 - loss: 1.6346 - val_accuracy: 0.7025 - val_loss: 0.8891\n",
      "Epoch 2/5\n",
      "\u001b[1m  1/515\u001b[0m \u001b[37m━━━━━━━━━━━━━━━━━━━━\u001b[0m \u001b[1m21:56\u001b[0m 3s/step - accuracy: 0.7188 - loss: 0.9927"
     ]
    },
    {
     "name": "stderr",
     "output_type": "stream",
     "text": [
      "c:\\Users\\Lenovo\\AppData\\Local\\Programs\\Python\\Python312\\Lib\\contextlib.py:158: UserWarning: Your input ran out of data; interrupting training. Make sure that your dataset or generator can generate at least `steps_per_epoch * epochs` batches. You may need to use the `.repeat()` function when building your dataset.\n",
      "  self.gen.throw(value)\n"
     ]
    },
    {
     "name": "stdout",
     "output_type": "stream",
     "text": [
      "\u001b[1m515/515\u001b[0m \u001b[32m━━━━━━━━━━━━━━━━━━━━\u001b[0m\u001b[37m\u001b[0m \u001b[1m3s\u001b[0m 2ms/step - accuracy: 0.7188 - loss: 0.9927 - val_accuracy: 0.8333 - val_loss: 0.5483\n",
      "Epoch 3/5\n",
      "\u001b[1m515/515\u001b[0m \u001b[32m━━━━━━━━━━━━━━━━━━━━\u001b[0m\u001b[37m\u001b[0m \u001b[1m1605s\u001b[0m 3s/step - accuracy: 0.6901 - loss: 0.9340 - val_accuracy: 0.7425 - val_loss: 0.7526\n",
      "Epoch 4/5\n",
      "\u001b[1m515/515\u001b[0m \u001b[32m━━━━━━━━━━━━━━━━━━━━\u001b[0m\u001b[37m\u001b[0m \u001b[1m3s\u001b[0m 986us/step - accuracy: 0.7500 - loss: 0.6208 - val_accuracy: 0.8333 - val_loss: 0.5169\n",
      "Epoch 5/5\n",
      "\u001b[1m515/515\u001b[0m \u001b[32m━━━━━━━━━━━━━━━━━━━━\u001b[0m\u001b[37m\u001b[0m \u001b[1m1351s\u001b[0m 3s/step - accuracy: 0.7165 - loss: 0.8319 - val_accuracy: 0.7590 - val_loss: 0.6939\n"
     ]
    }
   ],
   "source": [
    "# Train the Model\n",
    "num_epochs = 5\n",
    "\n",
    "vgg_history = vgg_model.fit(\n",
    "    train_dataset,\n",
    "    steps_per_epoch=train_dataset.samples // batch_size,\n",
    "    epochs=num_epochs,\n",
    "    validation_data=validation_dataset,\n",
    "    validation_steps=validation_dataset.samples // batch_size)"
   ]
  },
  {
   "cell_type": "code",
   "execution_count": 31,
   "metadata": {},
   "outputs": [
    {
     "name": "stdout",
     "output_type": "stream",
     "text": [
      "\u001b[1m130/130\u001b[0m \u001b[32m━━━━━━━━━━━━━━━━━━━━\u001b[0m\u001b[37m\u001b[0m \u001b[1m175s\u001b[0m 1s/step - accuracy: 0.7666 - loss: 0.6823\n",
      "VGG Validation accuracy: 75.88%\n"
     ]
    }
   ],
   "source": [
    "# Evaluation of VGG Model\n",
    "vgg_loss, vgg_accuracy = vgg_model.evaluate(validation_dataset)\n",
    "\n",
    "print(f\"VGG Validation accuracy: {vgg_accuracy*100:.2f}%\")"
   ]
  },
  {
   "cell_type": "markdown",
   "metadata": {},
   "source": [
    "# Plant Care"
   ]
  },
  {
   "cell_type": "code",
   "execution_count": 43,
   "metadata": {},
   "outputs": [],
   "source": [
    "# Disease information dictionary\n",
    "disease_info = {\n",
    "    'Pepper__bell___Bacterial_spot': {\n",
    "        'sunlight': '6-8 hours of direct sunlight',\n",
    "        'water': 'Keep soil consistently moist but not waterlogged',\n",
    "        'water_liters': '1-1.5 liters per day',\n",
    "        'cure': 'Remove infected leaves and apply copper-based fungicides'\n",
    "    },\n",
    "    'Pepper__bell___healthy': {\n",
    "        'sunlight': '6-8 hours of direct sunlight',\n",
    "        'water': 'Water when the top 1 inch of soil is dry',\n",
    "        'water_liters': '1 liter per day',\n",
    "        'cure': 'No disease detected, maintain healthy growth practices'\n",
    "    },\n",
    "    'Potato___Early_blight': {\n",
    "        'sunlight': 'Full sun',\n",
    "        'water': 'Water deeply, allowing soil to dry between waterings',\n",
    "        'water_liters': '1-1.5 liters per day',\n",
    "        'cure': 'Apply fungicides and remove affected leaves'\n",
    "    },\n",
    "    'Potato___Late_blight': {\n",
    "        'sunlight': 'Full sun',\n",
    "        'water': 'Keep soil evenly moist but avoid overwatering',\n",
    "        'water_liters': '1-1.5 liters per day',\n",
    "        'cure': 'Use resistant varieties and apply appropriate fungicides'\n",
    "    },\n",
    "    'Potato___healthy': {\n",
    "        'sunlight': 'Full sun',\n",
    "        'water': 'Water when the top 2 inches of soil are dry',\n",
    "        'water_liters': '1-1.5 liters per day',\n",
    "        'cure': 'No disease detected, maintain healthy growth practices'\n",
    "    },\n",
    "    'Tomato_Bacterial_spot': {\n",
    "        'sunlight': '6-8 hours of direct sunlight',\n",
    "        'water': 'Water at the base, avoiding wetting the foliage',\n",
    "        'water_liters': '1-1.5 liters per day',\n",
    "        'cure': 'Remove infected leaves and apply copper-based fungicides'\n",
    "    },\n",
    "    'Tomato_Early_blight': {\n",
    "        'sunlight': '6-8 hours of direct sunlight',\n",
    "        'water': 'Water deeply, allowing soil to dry between waterings',\n",
    "        'water_liters': '1.5-2 liters per day',\n",
    "        'cure': 'Apply fungicides and remove affected leaves'\n",
    "    },\n",
    "    'Tomato_Late_blight': {\n",
    "        'sunlight': '6-8 hours of direct sunlight',\n",
    "        'water': 'Keep soil evenly moist but avoid overwatering',\n",
    "        'water_liters': '1.5-2 liters per day',\n",
    "        'cure': 'Use resistant varieties and apply appropriate fungicides'\n",
    "    },\n",
    "    'Tomato_Leaf_Mold': {\n",
    "        'sunlight': '6-8 hours of direct sunlight',\n",
    "        'water': 'Water at the base, keeping foliage dry',\n",
    "        'water_liters': '1.5-2 liters per day',\n",
    "        'cure': 'Improve air circulation and apply fungicides'\n",
    "    },\n",
    "    'Tomato_Septoria_leaf_spot': {\n",
    "        'sunlight': '6-8 hours of direct sunlight',\n",
    "        'water': 'Water at the base, avoiding wetting the foliage',\n",
    "        'water_liters': '1.5-2 liters per day',\n",
    "        'cure': 'Remove infected leaves and apply fungicides'\n",
    "    },\n",
    "    'Tomato_Spider_mites_Two_spotted_spider_mite': {\n",
    "        'sunlight': '6-8 hours of direct sunlight',\n",
    "        'water': 'Maintain consistent soil moisture',\n",
    "        'water_liters': '1-1.5 liters per day',\n",
    "        'cure': 'Use insecticidal soaps or miticides'\n",
    "    },\n",
    "    'Tomato__Target_Spot': {\n",
    "        'sunlight': '6-8 hours of direct sunlight',\n",
    "        'water': 'Water at the base, avoiding wetting the foliage',\n",
    "        'water_liters': '1.5-2 liters per day',\n",
    "        'cure': 'Remove infected leaves and apply fungicides'\n",
    "    },\n",
    "    'Tomato__Tomato_YellowLeaf__Curl_Virus': {\n",
    "        'sunlight': '6-8 hours of direct sunlight',\n",
    "        'water': 'Water regularly, keeping soil evenly moist',\n",
    "        'water_liters': '1.5-2 liters per day',\n",
    "        'cure': 'Remove affected plants and control whitefly population'\n",
    "    },\n",
    "    'Tomato__Tomato_mosaic_virus': {\n",
    "        'sunlight': '6-8 hours of direct sunlight',\n",
    "        'water': 'Keep soil consistently moist',\n",
    "        'water_liters': '1-1.5 liters per day',\n",
    "        'cure': 'Remove and destroy infected plants, practice crop rotation'\n",
    "    },\n",
    "    'Tomato_healthy': {\n",
    "        'sunlight': '6-8 hours of direct sunlight',\n",
    "        'water': 'Water when the top 1 inch of soil is dry',\n",
    "        'water_liters': '1.5 liters per day',\n",
    "        'cure': 'No disease detected, maintain healthy growth practices'\n",
    "    }\n",
    "}\n"
   ]
  },
  {
   "cell_type": "code",
   "execution_count": 44,
   "metadata": {},
   "outputs": [],
   "source": [
    "# Function to get care recommendations based on predicted class\n",
    "def get_care_recommendations(predicted_class):\n",
    "    if predicted_class in disease_info:\n",
    "        return disease_info[predicted_class]\n",
    "    else:\n",
    "        return {\n",
    "            'sunlight': 'Information not available',\n",
    "            'water': 'Information not available',\n",
    "            'water_liters': 'Information not available',\n",
    "            'cure': 'Information not available'\n",
    "        }"
   ]
  },
  {
   "cell_type": "code",
   "execution_count": 47,
   "metadata": {},
   "outputs": [
    {
     "name": "stdout",
     "output_type": "stream",
     "text": [
      "Class labels from validation generator: ['Pepper__bell___Bacterial_spot', 'Pepper__bell___healthy', 'Potato___Early_blight', 'Potato___Late_blight', 'Potato___healthy', 'Tomato_Bacterial_spot', 'Tomato_Early_blight', 'Tomato_Late_blight', 'Tomato_Leaf_Mold', 'Tomato_Septoria_leaf_spot', 'Tomato_Spider_mites_Two_spotted_spider_mite', 'Tomato__Target_Spot', 'Tomato__Tomato_YellowLeaf__Curl_Virus', 'Tomato__Tomato_mosaic_virus', 'Tomato_healthy']\n"
     ]
    }
   ],
   "source": [
    "class_labels = list(validation_dataset.class_indices.keys())\n",
    "print(\"Class labels from validation generator:\", class_labels)\n"
   ]
  },
  {
   "cell_type": "code",
   "execution_count": 48,
   "metadata": {},
   "outputs": [
    {
     "name": "stdout",
     "output_type": "stream",
     "text": [
      "\u001b[1m130/130\u001b[0m \u001b[32m━━━━━━━━━━━━━━━━━━━━\u001b[0m\u001b[37m\u001b[0m \u001b[1m215s\u001b[0m 2s/step\n",
      "Recommendations for Tomato_Bacterial_spot:\n",
      "Sunlight: 6-8 hours of direct sunlight\n",
      "Water: Water at the base, avoiding wetting the foliage\n",
      "Water in liters: 1-1.5 liters per day\n",
      "Cure: Remove infected leaves and apply copper-based fungicides\n"
     ]
    }
   ],
   "source": [
    "# Predict and provide care recommendations for the first image in the validation set\n",
    "validation_dataset.reset()\n",
    "vgg_predictions = vgg_model.predict(validation_dataset)\n",
    "vgg_predicted_classes = np.argmax(vgg_predictions, axis=1)\n",
    "\n",
    "# Get recommendations for the first predicted class\n",
    "predicted_class = class_labels[vgg_predicted_classes[0]]\n",
    "recommendations = get_care_recommendations(predicted_class)\n",
    "print(f\"Recommendations for {predicted_class}:\")\n",
    "print(f\"Sunlight: {recommendations['sunlight']}\")\n",
    "print(f\"Water: {recommendations['water']}\")\n",
    "print(f\"Water in liters: {recommendations['water_liters']}\")\n",
    "print(f\"Cure: {recommendations['cure']}\")\n"
   ]
  },
  {
   "cell_type": "code",
   "execution_count": null,
   "metadata": {},
   "outputs": [],
   "source": []
  }
 ],
 "metadata": {
  "kernelspec": {
   "display_name": "Python 3",
   "language": "python",
   "name": "python3"
  },
  "language_info": {
   "codemirror_mode": {
    "name": "ipython",
    "version": 3
   },
   "file_extension": ".py",
   "mimetype": "text/x-python",
   "name": "python",
   "nbconvert_exporter": "python",
   "pygments_lexer": "ipython3",
   "version": "3.12.1"
  }
 },
 "nbformat": 4,
 "nbformat_minor": 2
}
