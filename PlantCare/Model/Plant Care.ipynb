{
 "cells": [
  {
   "cell_type": "code",
   "execution_count": 2,
   "metadata": {},
   "outputs": [],
   "source": [
    "# Import required libraries\n",
    "import os\n",
    "import shutil\n",
    "import numpy as np\n",
    "import tensorflow as tf\n",
    "from tensorflow.keras.preprocessing.image import ImageDataGenerator\n",
    "from tensorflow.keras.applications import VGG19, ResNet50\n",
    "from tensorflow.keras.layers import Dense, GlobalAveragePooling2D, BatchNormalization, Dropout\n",
    "from tensorflow.keras.models import Model\n",
    "from tensorflow.keras.optimizers import Adam\n",
    "from sklearn.model_selection import train_test_split"
   ]
  },
  {
   "cell_type": "code",
   "execution_count": 3,
   "metadata": {},
   "outputs": [],
   "source": [
    "image_size = (128, 128)\n",
    "batch_size = 32\n",
    "validation_split = 0.2\n",
    "num_classes = 15\n",
    "\n",
    "dataset_dir = r\"D:\\Ashraf\\NCI\\Semester 2\\DMML2\\CA2\\Dataset\\PlantVillage\"\n",
    "base_dir = r\"D:\\Ashraf\\NCI\\Semester 2\\DMML2\\CA2\\Dataset\\New\"\n",
    "\n",
    "# Function to create directories\n",
    "def create_dir(path):\n",
    "    if not os.path.exists(path):\n",
    "        os.makedirs(path)\n",
    "\n",
    "# Split dataset into training and validation sets\n",
    "def split_dataset(dataset_dir, base_dir, validation_split):\n",
    "    create_dir(base_dir)\n",
    "    train_dir = os.path.join(base_dir, 'train')\n",
    "    validation_dir = os.path.join(base_dir, 'validation')\n",
    "    create_dir(train_dir)\n",
    "    create_dir(validation_dir)\n",
    "\n",
    "    for category in os.listdir(dataset_dir):\n",
    "        category_path = os.path.join(dataset_dir, category)\n",
    "        if os.path.isdir(category_path):\n",
    "            images = os.listdir(category_path)\n",
    "            train_images, val_images = train_test_split(images, test_size=validation_split, random_state=42)\n",
    "\n",
    "            train_category_dir = os.path.join(train_dir, category)\n",
    "            val_category_dir = os.path.join(validation_dir, category)\n",
    "            create_dir(train_category_dir)\n",
    "            create_dir(val_category_dir)\n",
    "\n",
    "            for image in train_images:\n",
    "                shutil.copy(os.path.join(category_path, image), os.path.join(train_category_dir, image))\n",
    "\n",
    "            for image in val_images:\n",
    "                shutil.copy(os.path.join(category_path, image), os.path.join(val_category_dir, image))\n",
    "\n",
    "split_dataset(dataset_dir, base_dir, validation_split)"
   ]
  },
  {
   "cell_type": "code",
   "execution_count": 4,
   "metadata": {},
   "outputs": [
    {
     "name": "stdout",
     "output_type": "stream",
     "text": [
      "Found 16504 images belonging to 15 classes.\n",
      "Found 4134 images belonging to 15 classes.\n"
     ]
    }
   ],
   "source": [
    "# Data Preparation\n",
    "train_dir = os.path.join(base_dir, 'train')\n",
    "validation_dir = os.path.join(base_dir, 'validation')\n",
    "\n",
    "train_datagen = ImageDataGenerator(\n",
    "    rescale=1./255,\n",
    "    rotation_range=20,\n",
    "    width_shift_range=0.2,\n",
    "    height_shift_range=0.2,\n",
    "    shear_range=0.2,\n",
    "    zoom_range=0.2,\n",
    "    horizontal_flip=True,\n",
    "    fill_mode='nearest')\n",
    "\n",
    "validation_datagen = ImageDataGenerator(rescale=1./255)\n",
    "\n",
    "train_dataset = train_datagen.flow_from_directory(\n",
    "    train_dir,\n",
    "    target_size=image_size,\n",
    "    batch_size=batch_size,\n",
    "    class_mode='categorical')\n",
    "\n",
    "validation_dataset = validation_datagen.flow_from_directory(\n",
    "    validation_dir,\n",
    "    target_size=image_size,\n",
    "    batch_size=batch_size,\n",
    "    class_mode='categorical')"
   ]
  },
  {
   "cell_type": "markdown",
   "metadata": {},
   "source": [
    "# VGG19"
   ]
  },
  {
   "cell_type": "code",
   "execution_count": 5,
   "metadata": {},
   "outputs": [],
   "source": [
    "# Build VGG19 Model\n",
    "vgg_base = VGG19(weights='imagenet', include_top=False, input_shape=(128, 128, 3))\n",
    "for layer in vgg_base.layers:\n",
    "    layer.trainable = False\n",
    "x_vgg = GlobalAveragePooling2D()(vgg_base.output)\n",
    "x_vgg = Dense(1024, activation='relu')(x_vgg)\n",
    "predictions_vgg = Dense(num_classes, activation='softmax')(x_vgg)\n",
    "vgg_model = Model(inputs=vgg_base.input, outputs=predictions_vgg)"
   ]
  },
  {
   "cell_type": "code",
   "execution_count": 6,
   "metadata": {},
   "outputs": [],
   "source": [
    "# Compile the Model\n",
    "vgg_model.compile(optimizer=Adam(), loss='categorical_crossentropy', metrics=['accuracy'])"
   ]
  },
  {
   "cell_type": "code",
   "execution_count": 7,
   "metadata": {},
   "outputs": [
    {
     "name": "stdout",
     "output_type": "stream",
     "text": [
      "Epoch 1/5\n"
     ]
    },
    {
     "name": "stderr",
     "output_type": "stream",
     "text": [
      "c:\\Users\\Lenovo\\AppData\\Local\\Programs\\Python\\Python312\\Lib\\site-packages\\keras\\src\\trainers\\data_adapters\\py_dataset_adapter.py:121: UserWarning: Your `PyDataset` class should call `super().__init__(**kwargs)` in its constructor. `**kwargs` can include `workers`, `use_multiprocessing`, `max_queue_size`. Do not pass these arguments to `fit()`, as they will be ignored.\n",
      "  self._warn_if_super_not_called()\n"
     ]
    },
    {
     "name": "stdout",
     "output_type": "stream",
     "text": [
      "\u001b[1m515/515\u001b[0m \u001b[32m━━━━━━━━━━━━━━━━━━━━\u001b[0m\u001b[37m\u001b[0m \u001b[1m1069s\u001b[0m 2s/step - accuracy: 0.4796 - loss: 1.6324 - val_accuracy: 0.7226 - val_loss: 0.8462\n",
      "Epoch 2/5\n",
      "\u001b[1m  1/515\u001b[0m \u001b[37m━━━━━━━━━━━━━━━━━━━━\u001b[0m \u001b[1m14:02\u001b[0m 2s/step - accuracy: 0.6562 - loss: 0.8347"
     ]
    },
    {
     "name": "stderr",
     "output_type": "stream",
     "text": [
      "c:\\Users\\Lenovo\\AppData\\Local\\Programs\\Python\\Python312\\Lib\\contextlib.py:158: UserWarning: Your input ran out of data; interrupting training. Make sure that your dataset or generator can generate at least `steps_per_epoch * epochs` batches. You may need to use the `.repeat()` function when building your dataset.\n",
      "  self.gen.throw(value)\n"
     ]
    },
    {
     "name": "stdout",
     "output_type": "stream",
     "text": [
      "\u001b[1m515/515\u001b[0m \u001b[32m━━━━━━━━━━━━━━━━━━━━\u001b[0m\u001b[37m\u001b[0m \u001b[1m2s\u001b[0m 868us/step - accuracy: 0.6562 - loss: 0.8347 - val_accuracy: 0.8333 - val_loss: 0.6886\n",
      "Epoch 3/5\n",
      "\u001b[1m515/515\u001b[0m \u001b[32m━━━━━━━━━━━━━━━━━━━━\u001b[0m\u001b[37m\u001b[0m \u001b[1m1033s\u001b[0m 2s/step - accuracy: 0.6876 - loss: 0.9426 - val_accuracy: 0.7359 - val_loss: 0.7640\n",
      "Epoch 4/5\n",
      "\u001b[1m515/515\u001b[0m \u001b[32m━━━━━━━━━━━━━━━━━━━━\u001b[0m\u001b[37m\u001b[0m \u001b[1m2s\u001b[0m 606us/step - accuracy: 0.7188 - loss: 0.9039 - val_accuracy: 0.5000 - val_loss: 1.2941\n",
      "Epoch 5/5\n",
      "\u001b[1m515/515\u001b[0m \u001b[32m━━━━━━━━━━━━━━━━━━━━\u001b[0m\u001b[37m\u001b[0m \u001b[1m864s\u001b[0m 2s/step - accuracy: 0.7188 - loss: 0.8355 - val_accuracy: 0.7568 - val_loss: 0.7092\n"
     ]
    }
   ],
   "source": [
    "# Train the Model\n",
    "num_epochs = 5\n",
    "\n",
    "vgg_history = vgg_model.fit(\n",
    "    train_dataset,\n",
    "    steps_per_epoch=train_dataset.samples // batch_size,\n",
    "    epochs=num_epochs,\n",
    "    validation_data=validation_dataset,\n",
    "    validation_steps=validation_dataset.samples // batch_size)"
   ]
  },
  {
   "cell_type": "code",
   "execution_count": 9,
   "metadata": {},
   "outputs": [
    {
     "name": "stdout",
     "output_type": "stream",
     "text": [
      "\u001b[1m130/130\u001b[0m \u001b[32m━━━━━━━━━━━━━━━━━━━━\u001b[0m\u001b[37m\u001b[0m \u001b[1m174s\u001b[0m 1s/step - accuracy: 0.7703 - loss: 0.6745\n",
      "VGG Validation accuracy: 75.67%\n"
     ]
    }
   ],
   "source": [
    "# Evaluation of VGG Model\n",
    "vgg_loss, vgg_accuracy = vgg_model.evaluate(validation_dataset)\n",
    "\n",
    "print(f\"VGG Validation accuracy: {vgg_accuracy*100:.2f}%\")"
   ]
  },
  {
   "cell_type": "code",
   "execution_count": 10,
   "metadata": {},
   "outputs": [
    {
     "name": "stderr",
     "output_type": "stream",
     "text": [
      "WARNING:absl:You are saving your model as an HDF5 file via `model.save()` or `keras.saving.save_model(model)`. This file format is considered legacy. We recommend using instead the native Keras format, e.g. `model.save('my_model.keras')` or `keras.saving.save_model(model, 'my_model.keras')`. \n"
     ]
    }
   ],
   "source": [
    "vgg_model.save('vgg19_plant_disease_model.h5')"
   ]
  },
  {
   "cell_type": "markdown",
   "metadata": {},
   "source": [
    "# Plant Care"
   ]
  },
  {
   "cell_type": "code",
   "execution_count": 17,
   "metadata": {},
   "outputs": [
    {
     "data": {
      "text/html": [
       "<div>\n",
       "<style scoped>\n",
       "    .dataframe tbody tr th:only-of-type {\n",
       "        vertical-align: middle;\n",
       "    }\n",
       "\n",
       "    .dataframe tbody tr th {\n",
       "        vertical-align: top;\n",
       "    }\n",
       "\n",
       "    .dataframe thead th {\n",
       "        text-align: right;\n",
       "    }\n",
       "</style>\n",
       "<table border=\"1\" class=\"dataframe\">\n",
       "  <thead>\n",
       "    <tr style=\"text-align: right;\">\n",
       "      <th></th>\n",
       "      <th>Plant Name and Disease</th>\n",
       "      <th>Sunlight</th>\n",
       "      <th>Water</th>\n",
       "      <th>Water in liters</th>\n",
       "      <th>Cure</th>\n",
       "    </tr>\n",
       "  </thead>\n",
       "  <tbody>\n",
       "    <tr>\n",
       "      <th>0</th>\n",
       "      <td>Pepper__bell___Bacterial_spot</td>\n",
       "      <td>6-8 hours of direct sunlight</td>\n",
       "      <td>Keep soil consistently moist but not waterlogged</td>\n",
       "      <td>1-1.5 liters per day</td>\n",
       "      <td>Remove infected leaves and apply copper-based ...</td>\n",
       "    </tr>\n",
       "    <tr>\n",
       "      <th>1</th>\n",
       "      <td>Pepper__bell___healthy</td>\n",
       "      <td>6-8 hours of direct sunlight</td>\n",
       "      <td>Water when the top 1 inch of soil is dry</td>\n",
       "      <td>1 liter per day</td>\n",
       "      <td>No disease detected, maintain healthy growth p...</td>\n",
       "    </tr>\n",
       "    <tr>\n",
       "      <th>2</th>\n",
       "      <td>Potato___Early_blight</td>\n",
       "      <td>Full sun</td>\n",
       "      <td>Water deeply, allowing soil to dry between wat...</td>\n",
       "      <td>1-1.5 liters per day</td>\n",
       "      <td>Apply fungicides and remove affected leaves</td>\n",
       "    </tr>\n",
       "    <tr>\n",
       "      <th>3</th>\n",
       "      <td>Potato___Late_blight</td>\n",
       "      <td>Full sun</td>\n",
       "      <td>Keep soil evenly moist but avoid overwatering</td>\n",
       "      <td>1-1.5 liters per day</td>\n",
       "      <td>Use resistant varieties and apply appropriate ...</td>\n",
       "    </tr>\n",
       "    <tr>\n",
       "      <th>4</th>\n",
       "      <td>Potato___healthy</td>\n",
       "      <td>Full sun</td>\n",
       "      <td>Water when the top 2 inches of soil are dry</td>\n",
       "      <td>1-1.5 liters per day</td>\n",
       "      <td>No disease detected, maintain healthy growth p...</td>\n",
       "    </tr>\n",
       "    <tr>\n",
       "      <th>5</th>\n",
       "      <td>Tomato_Bacterial_spot</td>\n",
       "      <td>6-8 hours of direct sunlight</td>\n",
       "      <td>Water at the base, avoiding wetting the foliage</td>\n",
       "      <td>1-1.5 liters per day</td>\n",
       "      <td>Remove infected leaves and apply copper-based ...</td>\n",
       "    </tr>\n",
       "    <tr>\n",
       "      <th>6</th>\n",
       "      <td>Tomato_Early_blight</td>\n",
       "      <td>6-8 hours of direct sunlight</td>\n",
       "      <td>Water deeply, allowing soil to dry between wat...</td>\n",
       "      <td>1.5-2 liters per day</td>\n",
       "      <td>Apply fungicides and remove affected leaves</td>\n",
       "    </tr>\n",
       "    <tr>\n",
       "      <th>7</th>\n",
       "      <td>Tomato_Late_blight</td>\n",
       "      <td>6-8 hours of direct sunlight</td>\n",
       "      <td>Keep soil evenly moist but avoid overwatering</td>\n",
       "      <td>1.5-2 liters per day</td>\n",
       "      <td>Use resistant varieties and apply appropriate ...</td>\n",
       "    </tr>\n",
       "    <tr>\n",
       "      <th>8</th>\n",
       "      <td>Tomato_Leaf_Mold</td>\n",
       "      <td>6-8 hours of direct sunlight</td>\n",
       "      <td>Water at the base, keeping foliage dry</td>\n",
       "      <td>1.5-2 liters per day</td>\n",
       "      <td>Improve air circulation and apply fungicides</td>\n",
       "    </tr>\n",
       "    <tr>\n",
       "      <th>9</th>\n",
       "      <td>Tomato_Septoria_leaf_spot</td>\n",
       "      <td>6-8 hours of direct sunlight</td>\n",
       "      <td>Water at the base, avoiding wetting the foliage</td>\n",
       "      <td>1.5-2 liters per day</td>\n",
       "      <td>Remove infected leaves and apply fungicides</td>\n",
       "    </tr>\n",
       "  </tbody>\n",
       "</table>\n",
       "</div>"
      ],
      "text/plain": [
       "          Plant Name and Disease                      Sunlight  \\\n",
       "0  Pepper__bell___Bacterial_spot  6-8 hours of direct sunlight   \n",
       "1         Pepper__bell___healthy  6-8 hours of direct sunlight   \n",
       "2          Potato___Early_blight                      Full sun   \n",
       "3           Potato___Late_blight                      Full sun   \n",
       "4               Potato___healthy                      Full sun   \n",
       "5          Tomato_Bacterial_spot  6-8 hours of direct sunlight   \n",
       "6            Tomato_Early_blight  6-8 hours of direct sunlight   \n",
       "7             Tomato_Late_blight  6-8 hours of direct sunlight   \n",
       "8               Tomato_Leaf_Mold  6-8 hours of direct sunlight   \n",
       "9      Tomato_Septoria_leaf_spot  6-8 hours of direct sunlight   \n",
       "\n",
       "                                               Water       Water in liters  \\\n",
       "0   Keep soil consistently moist but not waterlogged  1-1.5 liters per day   \n",
       "1           Water when the top 1 inch of soil is dry       1 liter per day   \n",
       "2  Water deeply, allowing soil to dry between wat...  1-1.5 liters per day   \n",
       "3      Keep soil evenly moist but avoid overwatering  1-1.5 liters per day   \n",
       "4        Water when the top 2 inches of soil are dry  1-1.5 liters per day   \n",
       "5    Water at the base, avoiding wetting the foliage  1-1.5 liters per day   \n",
       "6  Water deeply, allowing soil to dry between wat...  1.5-2 liters per day   \n",
       "7      Keep soil evenly moist but avoid overwatering  1.5-2 liters per day   \n",
       "8             Water at the base, keeping foliage dry  1.5-2 liters per day   \n",
       "9    Water at the base, avoiding wetting the foliage  1.5-2 liters per day   \n",
       "\n",
       "                                                Cure  \n",
       "0  Remove infected leaves and apply copper-based ...  \n",
       "1  No disease detected, maintain healthy growth p...  \n",
       "2        Apply fungicides and remove affected leaves  \n",
       "3  Use resistant varieties and apply appropriate ...  \n",
       "4  No disease detected, maintain healthy growth p...  \n",
       "5  Remove infected leaves and apply copper-based ...  \n",
       "6        Apply fungicides and remove affected leaves  \n",
       "7  Use resistant varieties and apply appropriate ...  \n",
       "8       Improve air circulation and apply fungicides  \n",
       "9        Remove infected leaves and apply fungicides  "
      ]
     },
     "execution_count": 17,
     "metadata": {},
     "output_type": "execute_result"
    }
   ],
   "source": [
    "import pandas as pd\n",
    "\n",
    "care_info_df = pd.read_csv('care_info.csv')\n",
    "\n",
    "care_info_df.head(10)"
   ]
  },
  {
   "cell_type": "code",
   "execution_count": 19,
   "metadata": {},
   "outputs": [],
   "source": [
    "# Convert the DataFrame to a dictionary for easy lookup\n",
    "care_info = care_info_df.set_index('Plant Name and Disease').T.to_dict()\n",
    "\n",
    "# Function to get care recommendations based on predicted class\n",
    "def get_care_recommendations(predicted_class):\n",
    "    if predicted_class in care_info:\n",
    "        return care_info[predicted_class]\n",
    "    else:\n",
    "        return {\n",
    "            'Sunlight': 'Information not available',\n",
    "            'Water': 'Information not available',\n",
    "            'Water in liters': 'Information not available',\n",
    "            'Cure': 'Information not available'\n",
    "        }\n"
   ]
  },
  {
   "cell_type": "code",
   "execution_count": 20,
   "metadata": {},
   "outputs": [
    {
     "name": "stdout",
     "output_type": "stream",
     "text": [
      "\u001b[1m130/130\u001b[0m \u001b[32m━━━━━━━━━━━━━━━━━━━━\u001b[0m\u001b[37m\u001b[0m \u001b[1m178s\u001b[0m 1s/step\n",
      "Recommendations for Tomato__Tomato_YellowLeaf__Curl_Virus:\n",
      "Sunlight: 6-8 hours of direct sunlight\n",
      "Water: Water regularly, keeping soil evenly moist\n",
      "Water in liters: 1.5-2 liters per day\n",
      "Cure: Remove affected plants and control whitefly population\n"
     ]
    }
   ],
   "source": [
    "# Predict and provide care recommendations for the first image in the validation set\n",
    "class_labels = list(validation_dataset.class_indices.keys())\n",
    "validation_dataset.reset()\n",
    "vgg_predictions = vgg_model.predict(validation_dataset)\n",
    "vgg_predicted_classes = np.argmax(vgg_predictions, axis=1)\n",
    "\n",
    "# Get recommendations for the first predicted class\n",
    "predicted_class = class_labels[vgg_predicted_classes[0]]\n",
    "recommendations = get_care_recommendations(predicted_class)\n",
    "print(f\"Recommendations for {predicted_class}:\")\n",
    "print(f\"Sunlight: {recommendations['Sunlight']}\")\n",
    "print(f\"Water: {recommendations['Water']}\")\n",
    "print(f\"Water in liters: {recommendations['Water in liters']}\")\n",
    "print(f\"Cure: {recommendations['Cure']}\")\n"
   ]
  },
  {
   "cell_type": "code",
   "execution_count": null,
   "metadata": {},
   "outputs": [],
   "source": []
  }
 ],
 "metadata": {
  "kernelspec": {
   "display_name": "Python 3",
   "language": "python",
   "name": "python3"
  },
  "language_info": {
   "codemirror_mode": {
    "name": "ipython",
    "version": 3
   },
   "file_extension": ".py",
   "mimetype": "text/x-python",
   "name": "python",
   "nbconvert_exporter": "python",
   "pygments_lexer": "ipython3",
   "version": "3.12.1"
  }
 },
 "nbformat": 4,
 "nbformat_minor": 2
}
